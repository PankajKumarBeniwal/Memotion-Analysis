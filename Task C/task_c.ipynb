{
  "nbformat": 4,
  "nbformat_minor": 0,
  "metadata": {
    "kernelspec": {
      "language": "python",
      "display_name": "Python 3",
      "name": "python3"
    },
    "language_info": {
      "pygments_lexer": "ipython3",
      "nbconvert_exporter": "python",
      "version": "3.6.4",
      "file_extension": ".py",
      "codemirror_mode": {
        "name": "ipython",
        "version": 3
      },
      "name": "python",
      "mimetype": "text/x-python"
    },
    "colab": {
      "name": "task-c.ipynb",
      "provenance": [],
      "include_colab_link": true
    }
  },
  "cells": [
    {
      "cell_type": "markdown",
      "metadata": {
        "id": "view-in-github",
        "colab_type": "text"
      },
      "source": [
        "<a href=\"https://colab.research.google.com/github/PankajKumarBeniwal/Memotion-Analysis/blob/main/task_c.ipynb\" target=\"_parent\"><img src=\"https://colab.research.google.com/assets/colab-badge.svg\" alt=\"Open In Colab\"/></a>"
      ]
    },
    {
      "cell_type": "markdown",
      "metadata": {
        "id": "m_QNNrzS2EVf"
      },
      "source": [
        "### Loaing Necessary Libraries"
      ]
    },
    {
      "cell_type": "code",
      "metadata": {
        "trusted": true,
        "id": "E9_ws-fV2EVm"
      },
      "source": [
        "import re\n",
        "import string\n",
        "import numpy as np\n",
        "import pandas as pd\n",
        "from tqdm import tqdm\n",
        "import matplotlib.pyplot as plt\n",
        "from sklearn.model_selection import train_test_split\n",
        "from sklearn.metrics import f1_score\n",
        "\n",
        "import tensorflow as tf\n",
        "from tensorflow.keras import Sequential, Model\n",
        "from tensorflow.keras.layers import Conv2D, MaxPool2D, GlobalAveragePooling2D\n",
        "from tensorflow.keras.layers import Dense, Flatten, BatchNormalization, Activation, Dropout\n",
        "from tensorflow.keras.layers import Conv1D, Embedding, GlobalAveragePooling1D \n",
        "from tensorflow.keras.optimizers import Adam, RMSprop\n",
        "from tensorflow.keras.preprocessing import image\n",
        "\n",
        "from PIL import ImageFile\n",
        "ImageFile.LOAD_TRUNCATED_IMAGES = True"
      ],
      "execution_count": null,
      "outputs": []
    },
    {
      "cell_type": "markdown",
      "metadata": {
        "id": "K5OfFxpo2EVn"
      },
      "source": [
        "### Reading Image Info from CSV and Cleaning"
      ]
    },
    {
      "cell_type": "code",
      "metadata": {
        "trusted": true,
        "id": "fkdUwGgc2EVo"
      },
      "source": [
        "df = pd.read_csv('../input/memotion-dataset-7k/memotion_dataset_7k/labels.csv')\n",
        "df.drop(df.columns[df.columns.str.contains('unnamed',case = False)],axis = 1, inplace = True)\n",
        "df = df.drop(columns = ['text_ocr', 'overall_sentiment'])\n",
        "df.head()"
      ],
      "execution_count": null,
      "outputs": []
    },
    {
      "cell_type": "code",
      "metadata": {
        "trusted": true,
        "id": "nuqm9gpd2EVo"
      },
      "source": [
        "df[df.isnull().any(axis=1)]"
      ],
      "execution_count": null,
      "outputs": []
    },
    {
      "cell_type": "code",
      "metadata": {
        "trusted": true,
        "id": "vHbwZ1L32EVo"
      },
      "source": [
        "cleaned = df.copy()\n",
        "cleaned.dropna(inplace=True)\n",
        "cleaned.isnull().any()"
      ],
      "execution_count": null,
      "outputs": []
    },
    {
      "cell_type": "markdown",
      "metadata": {
        "id": "wdBLvy982EVp"
      },
      "source": [
        "# Image Modelling"
      ]
    },
    {
      "cell_type": "markdown",
      "metadata": {
        "id": "96ox7Bxz2EVp"
      },
      "source": [
        "### Loading Images"
      ]
    },
    {
      "cell_type": "code",
      "metadata": {
        "trusted": true,
        "id": "hUu5Lb-b2EVp"
      },
      "source": [
        "width = 100\n",
        "height = 100\n",
        "X = []\n",
        "for i in tqdm(range(cleaned.shape[0])):\n",
        "    if i in [119, 4799, 6781, 6784, 6786]:\n",
        "        pass\n",
        "    else:\n",
        "        path = '../input/memotion-dataset-7k/memotion_dataset_7k/images/'+cleaned['image_name'][i]\n",
        "        img = image.load_img(path,target_size=(width,height,3))\n",
        "        img = image.img_to_array(img)\n",
        "        img = img/255.0\n",
        "        X.append(img)\n",
        "        \n",
        "X = np.array(X)"
      ],
      "execution_count": null,
      "outputs": []
    },
    {
      "cell_type": "code",
      "metadata": {
        "trusted": true,
        "id": "tn1sYB3j2EVp"
      },
      "source": [
        "X.shape"
      ],
      "execution_count": null,
      "outputs": []
    },
    {
      "cell_type": "markdown",
      "metadata": {
        "id": "dbVCOqMP2EVq"
      },
      "source": [
        "### Dropping few rows to make shape consistent"
      ]
    },
    {
      "cell_type": "code",
      "metadata": {
        "trusted": true,
        "id": "tGuECmZ32EVq"
      },
      "source": [
        "rows_to_drop = ['image_120.jpg',\n",
        "              'image_4800.jpg',\n",
        "              'image_6782.jpg',\n",
        "              'image_6785.jpg',\n",
        "              'image_6787.jpg',\n",
        "              'image_6988.jpg',\n",
        "              'image_6989.jpg',\n",
        "              'image_6990.png',\n",
        "              'image_6991.jpg',\n",
        "              'image_6992.jpg']"
      ],
      "execution_count": null,
      "outputs": []
    },
    {
      "cell_type": "code",
      "metadata": {
        "trusted": true,
        "id": "Vy2a-5K-2EVq"
      },
      "source": [
        "for images in rows_to_drop:\n",
        "    cleaned.drop(cleaned[cleaned['image_name'] == images].index, inplace=True)"
      ],
      "execution_count": null,
      "outputs": []
    },
    {
      "cell_type": "code",
      "metadata": {
        "trusted": true,
        "id": "ud8mWKb42EVr"
      },
      "source": [
        "target = pd.get_dummies(cleaned.iloc[:,2:])\n",
        "target.head()"
      ],
      "execution_count": null,
      "outputs": []
    },
    {
      "cell_type": "code",
      "metadata": {
        "trusted": true,
        "id": "SdGHoSRl2EVr"
      },
      "source": [
        "X_train, X_test, y_train, y_test = train_test_split(X, target, test_size = 0.2)"
      ],
      "execution_count": null,
      "outputs": []
    },
    {
      "cell_type": "markdown",
      "metadata": {
        "id": "rNENtSpN2EVr"
      },
      "source": [
        "### Image Preprocessing"
      ]
    },
    {
      "cell_type": "code",
      "metadata": {
        "trusted": true,
        "id": "kapLqdPd2EVr"
      },
      "source": [
        "data_augmentation = tf.keras.Sequential([\n",
        "  tf.keras.layers.experimental.preprocessing.RandomFlip('horizontal'),\n",
        "  tf.keras.layers.experimental.preprocessing.RandomContrast([.5,2]),\n",
        "  tf.keras.layers.experimental.preprocessing.RandomRotation(0.2),\n",
        "  tf.keras.layers.experimental.preprocessing.RandomZoom(0.1)\n",
        "])\n",
        "\n",
        "preprocess_input = tf.keras.applications.resnet_v2.preprocess_input\n",
        "\n",
        "rescale = tf.keras.layers.experimental.preprocessing.Rescaling(1./127.5, offset= -1)"
      ],
      "execution_count": null,
      "outputs": []
    },
    {
      "cell_type": "code",
      "metadata": {
        "trusted": true,
        "id": "XYo7jsBf2EVs"
      },
      "source": [
        "plt.figure(figsize=(10, 10))\n",
        "for i in range(9):\n",
        "  augmented_image = data_augmentation(X)\n",
        "  ax = plt.subplot(3, 3, i + 1)\n",
        "  plt.imshow(augmented_image[0])\n",
        "  plt.axis(\"off\")"
      ],
      "execution_count": null,
      "outputs": []
    },
    {
      "cell_type": "markdown",
      "metadata": {
        "id": "L5kZPOV72EVs"
      },
      "source": [
        "### Base Model"
      ]
    },
    {
      "cell_type": "code",
      "metadata": {
        "trusted": true,
        "id": "ZEnhvOlX2EVs"
      },
      "source": [
        "base_model_1 = tf.keras.applications.ResNet50(input_shape=X[0].shape,\n",
        "                                               include_top=False,\n",
        "                                               weights='imagenet')\n",
        "base_model_2 = tf.keras.applications.VGG16(input_shape=X[0].shape,\n",
        "                                               include_top=False,\n",
        "                                               weights='imagenet')"
      ],
      "execution_count": null,
      "outputs": []
    },
    {
      "cell_type": "code",
      "metadata": {
        "trusted": true,
        "id": "ApKEIaZx2EVs"
      },
      "source": [
        "base_model_1.trainable = False\n",
        "base_model_2.trainable = False"
      ],
      "execution_count": null,
      "outputs": []
    },
    {
      "cell_type": "markdown",
      "metadata": {
        "id": "m6S8CEwc2EVs"
      },
      "source": [
        "### Model for Image"
      ]
    },
    {
      "cell_type": "code",
      "metadata": {
        "trusted": true,
        "id": "WKckRDJW2EVt"
      },
      "source": [
        "def image_model():\n",
        "    image_input = tf.keras.Input(shape=(150, 150, 3), name = 'image_input')\n",
        "    image_layers = data_augmentation(image_input)\n",
        "    image_layers = preprocess_input(image_layers)\n",
        "    layer_bm_1 = base_model_1(image_input, training=True)\n",
        "    dropout_layer = Dropout(0.2)(layer_bm_1)\n",
        "    layer_bm_1 = Conv2D(2048, kernel_size=2,padding='valid')(layer_bm_1)\n",
        "    dropout_layer = Dropout(0.2)(layer_bm_1)\n",
        "    layer_bm_1 = Dense(512)(dropout_layer)\n",
        "    dropout_layer = Dropout(0.2)(layer_bm_1)\n",
        "    layer_bm_2 = base_model_2(image_input, training=True)\n",
        "    dropout_layer = Dropout(0.2)(layer_bm_2)\n",
        "    layer_bm_2 = Dense(512)(layer_bm_2)\n",
        "    dropout_layer = Dropout(0.2)(layer_bm_2)\n",
        "    layers = tf.keras.layers.concatenate([layer_bm_1, layer_bm_2])\n",
        "    image_layers = GlobalAveragePooling2D()(layers)\n",
        "    image_layers = Dropout(0.2, name = 'dropout_layer')(image_layers)\n",
        "    return image_input, image_layers"
      ],
      "execution_count": null,
      "outputs": []
    },
    {
      "cell_type": "code",
      "metadata": {
        "trusted": true,
        "id": "IhSVENuB2EVt"
      },
      "source": [
        "image_input, image_layers = image_model()"
      ],
      "execution_count": null,
      "outputs": []
    },
    {
      "cell_type": "markdown",
      "metadata": {
        "id": "HgH6bgz42EVt"
      },
      "source": [
        "# Text Modelling"
      ]
    },
    {
      "cell_type": "markdown",
      "metadata": {
        "id": "Rb4KDwXf2EVt"
      },
      "source": [
        "### Standardization and Cleaning"
      ]
    },
    {
      "cell_type": "code",
      "metadata": {
        "trusted": true,
        "id": "O2XXPobn2EVu"
      },
      "source": [
        "def standardization(data):\n",
        "    data = data.apply(lambda x: x.lower())\n",
        "    data = data.apply(lambda x: re.sub(r'\\d+', '', x))\n",
        "    data = data.apply(lambda x: re.sub(r'\\w*.com\\w*', '', x, flags=re.MULTILINE))\n",
        "    data = data.apply(lambda x: x.translate(str.maketrans('', '', string.punctuation)))\n",
        "    return data\n",
        "\n",
        "cleaned['text_corrected'] = standardization(cleaned.text_corrected)"
      ],
      "execution_count": null,
      "outputs": []
    },
    {
      "cell_type": "markdown",
      "metadata": {
        "id": "OX9WIIXx2EVu"
      },
      "source": [
        "### Vectorizing Layers"
      ]
    },
    {
      "cell_type": "code",
      "metadata": {
        "trusted": true,
        "id": "J5_h-klU2EVu"
      },
      "source": [
        "from tensorflow.keras.layers.experimental.preprocessing import TextVectorization\n",
        "vocab_size = 10000\n",
        "sequence_length = 50\n",
        "\n",
        "vectorize_layer = TextVectorization(\n",
        "    max_tokens=vocab_size,\n",
        "    output_mode='int',\n",
        "    output_sequence_length=sequence_length)\n",
        "\n",
        "text_ds = np.asarray(cleaned['text_corrected'])\n",
        "vectorize_layer.adapt(tf.convert_to_tensor(text_ds))"
      ],
      "execution_count": null,
      "outputs": []
    },
    {
      "cell_type": "code",
      "metadata": {
        "trusted": true,
        "id": "FTwOPn5G2EVu"
      },
      "source": [
        "X_text_train, X_text_test, y_text_train, y_text_test = train_test_split(cleaned.text_corrected, target, test_size = 0.2)"
      ],
      "execution_count": null,
      "outputs": []
    },
    {
      "cell_type": "code",
      "metadata": {
        "trusted": true,
        "id": "QbUUus5F2EVu"
      },
      "source": [
        "embedding_dim=16\n",
        "\n",
        "def text_model():\n",
        "    text_input = tf.keras.Input(shape=(None,), dtype=tf.string, name='text')\n",
        "    text_layers = vectorize_layer(text_input)\n",
        "    text_layers = tf.keras.layers.Embedding(vocab_size, embedding_dim, name=\"embedding\")(text_layers)\n",
        "    dropout_layer = Dropout(0.2)(text_layers)\n",
        "    \n",
        "    text_layers = tf.keras.layers.Bidirectional(tf.keras.layers.LSTM(512, activation='relu', return_sequences=True))(text_layers)\n",
        "    dropout_layer = Dropout(0.2)(text_layers)\n",
        "    text_layers = tf.keras.layers.BatchNormalization()(text_layers)\n",
        "\n",
        "    text_layers = tf.keras.layers.Conv1D(128, 7, padding=\"valid\", activation=\"relu\", strides=3)(text_layers)\n",
        "    dropout_layer = Dropout(0.2)(text_layers)\n",
        "    text_layers = tf.keras.layers.GlobalMaxPooling1D()(text_layers)\n",
        "    dropout_layer = Dropout(0.2)(text_layers)\n",
        "    \n",
        "    text_layers = tf.keras.layers.Dense(2048, activation=\"relu\")(text_layers)\n",
        "    text_layers = tf.keras.layers.Dropout(0.5)(text_layers)\n",
        "    return text_input, text_layers\n",
        "\n",
        "text_input, text_layers = text_model()"
      ],
      "execution_count": null,
      "outputs": []
    },
    {
      "cell_type": "markdown",
      "metadata": {
        "id": "CF43RS_T2EVv"
      },
      "source": [
        "# Combining and Evaluating"
      ]
    },
    {
      "cell_type": "markdown",
      "metadata": {
        "id": "TxlXCVsJ2EVv"
      },
      "source": [
        "### Task A: Overall Sentiment"
      ]
    },
    {
      "cell_type": "code",
      "metadata": {
        "trusted": true,
        "id": "22ibjFWe2EVw"
      },
      "source": [
        "def model(layer_1, layer_2, image_input, text_input):\n",
        "    concatenate = tf.keras.layers.concatenate([layer_1, layer_2], axis=1)\n",
        "    semi_final_layer = tf.keras.layers.Dense(2048, activation='relu')(concatenate)\n",
        "\n",
        "    output = tf.keras.layers.Dense(14, activation='softmax', name = 'humuor')(semi_final_layer)\n",
        "\n",
        "    model = tf.keras.Model(inputs = [image_input, text_input] , \n",
        "                           outputs = output)\n",
        "    return model"
      ],
      "execution_count": null,
      "outputs": []
    },
    {
      "cell_type": "code",
      "metadata": {
        "trusted": true,
        "id": "AaJ0JNVa2EVw"
      },
      "source": [
        "model = model(image_layers, text_layers, image_input, text_input)"
      ],
      "execution_count": null,
      "outputs": []
    },
    {
      "cell_type": "code",
      "metadata": {
        "trusted": true,
        "id": "CrEqLLjN2EVw"
      },
      "source": [
        "import os\n",
        "# Define the checkpoint directory to store the checkpoints\n",
        "checkpoint_dir = './training_checkpoints'\n",
        "\n",
        "# Name of the checkpoint files\n",
        "checkpoint_prefix = os.path.join(checkpoint_dir, \"ckpt_{epoch}\")"
      ],
      "execution_count": null,
      "outputs": []
    },
    {
      "cell_type": "code",
      "metadata": {
        "trusted": true,
        "id": "K5l_8JvG2EVw"
      },
      "source": [
        "# Function for decaying the learning rate.\n",
        "# You can define any decay function you need.\n",
        "def decay(epoch):\n",
        "  if epoch < 3:\n",
        "    return 1e-1\n",
        "  elif epoch >= 3 and epoch < 5:\n",
        "    return 1e-2\n",
        "  else:\n",
        "    return 1e-5"
      ],
      "execution_count": null,
      "outputs": []
    },
    {
      "cell_type": "code",
      "metadata": {
        "trusted": true,
        "id": "5pQnaK302EVw"
      },
      "source": [
        "# Callback for printing the LR at the end of each epoch.\n",
        "class PrintLR(tf.keras.callbacks.Callback):\n",
        "  def on_epoch_end(self, epoch, logs=None):\n",
        "    print('\\nLearning rate for epoch {} is {}'.format(epoch + 1,\n",
        "                                                      model.optimizer.lr.numpy()))\n",
        "\n",
        "callbacks = [\n",
        "    tf.keras.callbacks.TensorBoard(log_dir='./logs'),\n",
        "    tf.keras.callbacks.ModelCheckpoint(filepath=checkpoint_prefix,\n",
        "                                       save_weights_only=True),\n",
        "    tf.keras.callbacks.LearningRateScheduler(decay),\n",
        "    PrintLR()\n",
        "]"
      ],
      "execution_count": null,
      "outputs": []
    },
    {
      "cell_type": "code",
      "metadata": {
        "trusted": true,
        "id": "Bp4-9JfI2EVx"
      },
      "source": [
        "model.compile(optimizer=tf.keras.optimizers.Adam(),\n",
        "              loss = tf.keras.losses.CategoricalCrossentropy(from_logits=True),\n",
        "              metrics=['binary_accuracy', 'accuracy'])"
      ],
      "execution_count": null,
      "outputs": []
    },
    {
      "cell_type": "code",
      "metadata": {
        "trusted": true,
        "id": "kGf06oB_2EVx"
      },
      "source": [
        "history = model.fit(x = {\"image_input\": X_train, \"text_input\": X_text_train},\n",
        "                    y = y_train,\n",
        "                    batch_size=128,\n",
        "                    epochs=25,\n",
        "                    callbacks=callbacks\n",
        "                   )"
      ],
      "execution_count": null,
      "outputs": []
    },
    {
      "cell_type": "code",
      "metadata": {
        "trusted": true,
        "id": "-TSxscEj2EVx"
      },
      "source": [
        "df_history = pd.DataFrame(history.history)"
      ],
      "execution_count": null,
      "outputs": []
    },
    {
      "cell_type": "code",
      "metadata": {
        "trusted": true,
        "id": "TfXXXqdy2EVx"
      },
      "source": [
        "df_history"
      ],
      "execution_count": null,
      "outputs": []
    },
    {
      "cell_type": "code",
      "metadata": {
        "trusted": true,
        "id": "HCqE_gEf2EVx"
      },
      "source": [
        "fig, axes = plt.subplots(1,2, figsize=(15, 5))\n",
        "fig.tight_layout(pad=5.0)\n",
        "\n",
        "axes[0].plot(df_history.loss)\n",
        "axes[0].set_xlabel('No of Epochs')\n",
        "axes[0].set_ylabel('Loss')\n",
        "axes[0].set_title('Loss vs Epochs')\n",
        "\n",
        "axes[1].plot(df_history.binary_accuracy)\n",
        "axes[1].set_xlabel('No of Epochs')\n",
        "axes[1].set_ylabel('Loss')\n",
        "axes[1].set_title('Loss vs Epochs')\n",
        "plt.show()"
      ],
      "execution_count": null,
      "outputs": []
    },
    {
      "cell_type": "code",
      "metadata": {
        "trusted": true,
        "id": "N6JCBsL12EVy"
      },
      "source": [
        "prediction = model.predict(x = {\"image_input\": X_test, \"text_input\": X_text_test})\n",
        "prediction = np.array(prediction)\n",
        "prediction = np.squeeze(prediction)\n",
        "prediction = 1/(1+np.exp(-np.array(prediction)))\n",
        "prediction = np.where(prediction > 0.5, 1, 0)\n",
        "y_true = y_test.values\n",
        "\n",
        "micro_f1_score = f1_score(y_true[:,1], prediction[:,1], average='micro')\n",
        "macro_f1_score = f1_score(y_true[:,1], prediction[:,1], average='macro')\n",
        "\n",
        "print(\"Micro F1 score for Task C is \", micro_f1_score)\n",
        "print(\"Macro F1 score for Task C is \", macro_f1_score)"
      ],
      "execution_count": null,
      "outputs": []
    },
    {
      "cell_type": "code",
      "metadata": {
        "trusted": true,
        "id": "FCOYNWVR2EVy"
      },
      "source": [
        "predictions = model.predict(x = {\"image_input\": X_test, \"text_input\": X_text_test})\n",
        "predictions = np.array(predictions)\n",
        "predictions.shape"
      ],
      "execution_count": null,
      "outputs": []
    },
    {
      "cell_type": "code",
      "metadata": {
        "trusted": true,
        "id": "rWH7CGQk2EVz"
      },
      "source": [
        "import random\n",
        "\n",
        "fig, axes = plt.subplots(1,2, figsize=(20, 4))\n",
        "fig.tight_layout(pad=5.0)\n",
        "\n",
        "\n",
        "x = list(range(0,14))\n",
        "\n",
        "axes[0].imshow(X[random.randint(0,X_test.shape[0]),:,:,:])\n",
        "\n",
        "axes[1].bar(x, predictions[random.randint(0,X_test.shape[0]),:])\n",
        "axes[1].set_xlabel('Labels')\n",
        "axes[1].set_ylabel('Probanility')\n",
        "axes[1].set_title('Humuor Prob.')\n",
        "axes[1].set_xticks(x)\n",
        "axes[1].set_ylim(0,1)\n",
        "plt.show()\n",
        "\n",
        "print(predictions[random.randint(0,X_test.shape[0]),:].max(), np.where(predictions[random.randint(0,X_test.shape[0]),:].max()))"
      ],
      "execution_count": null,
      "outputs": []
    },
    {
      "cell_type": "code",
      "metadata": {
        "trusted": true,
        "id": "GG4asK0f2EVz"
      },
      "source": [
        "fig, axes = plt.subplots(1,2, figsize=(20, 4))\n",
        "fig.tight_layout(pad=5.0)\n",
        "\n",
        "\n",
        "x = list(range(0,14))\n",
        "\n",
        "axes[0].imshow(X[random.randint(0,X_test.shape[0]),:,:,:])\n",
        "\n",
        "axes[1].bar(x, predictions[random.randint(0,X_test.shape[0]),:])\n",
        "axes[1].set_xlabel('Labels')\n",
        "axes[1].set_ylabel('Probanility')\n",
        "axes[1].set_title('Humuor Prob.')\n",
        "axes[1].set_xticks(x)\n",
        "axes[1].set_ylim(0,1)\n",
        "plt.show()\n",
        "\n",
        "print(predictions[random.randint(0,X_test.shape[0]),:].max(), np.where(predictions[random.randint(0,X_test.shape[0]),:].max()))"
      ],
      "execution_count": null,
      "outputs": []
    },
    {
      "cell_type": "code",
      "metadata": {
        "trusted": true,
        "id": "lotGMGGn2EVz"
      },
      "source": [
        "fig, axes = plt.subplots(1,2, figsize=(20, 4))\n",
        "fig.tight_layout(pad=5.0)\n",
        "\n",
        "\n",
        "x = list(range(0,14))\n",
        "\n",
        "axes[0].imshow(X[random.randint(0,X_test.shape[0]),:,:,:])\n",
        "\n",
        "axes[1].bar(x, predictions[random.randint(0,X_test.shape[0]),:])\n",
        "axes[1].set_xlabel('Labels')\n",
        "axes[1].set_ylabel('Probanility')\n",
        "axes[1].set_title('Humuor Prob.')\n",
        "axes[1].set_xticks(x)\n",
        "axes[1].set_ylim(0,1)\n",
        "plt.show()\n",
        "\n",
        "print(predictions[random.randint(0,X_test.shape[0]),:].max(), np.where(predictions[random.randint(0,X_test.shape[0]),:].max()))"
      ],
      "execution_count": null,
      "outputs": []
    },
    {
      "cell_type": "code",
      "metadata": {
        "trusted": true,
        "id": "x4wBK70x2EVz"
      },
      "source": [
        "fig, axes = plt.subplots(1,2, figsize=(20, 4))\n",
        "fig.tight_layout(pad=5.0)\n",
        "\n",
        "\n",
        "x = list(range(0,14))\n",
        "\n",
        "axes[0].imshow(X[random.randint(0,X_test.shape[0]),:,:,:])\n",
        "\n",
        "axes[1].bar(x, predictions[random.randint(0,X_test.shape[0]),:])\n",
        "axes[1].set_xlabel('Labels')\n",
        "axes[1].set_ylabel('Probanility')\n",
        "axes[1].set_title('Humuor Prob.')\n",
        "axes[1].set_xticks(x)\n",
        "axes[1].set_ylim(0,1)\n",
        "plt.show()\n",
        "\n",
        "print(predictions[random.randint(0,X_test.shape[0]),:].max(), np.where(predictions[random.randint(0,X_test.shape[0]),:].max()))"
      ],
      "execution_count": null,
      "outputs": []
    },
    {
      "cell_type": "code",
      "metadata": {
        "trusted": true,
        "id": "jz2vqTH22EV0"
      },
      "source": [
        ""
      ],
      "execution_count": null,
      "outputs": []
    }
  ]
}
